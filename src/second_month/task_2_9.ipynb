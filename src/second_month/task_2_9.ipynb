{
 "cells": [
  {
   "cell_type": "code",
   "execution_count": 56,
   "metadata": {},
   "outputs": [],
   "source": [
    "import numpy as np\n",
    "import pandas as pd\n",
    "from datetime import datetime, date, timedelta\n",
    "from dateutil.relativedelta import *"
   ]
  },
  {
   "cell_type": "code",
   "execution_count": 2,
   "metadata": {},
   "outputs": [],
   "source": [
    "# task_2_9_1\n",
    "# Write a Pandas program to create \n",
    "# a) Datetime object for Jan 15 2012."
   ]
  },
  {
   "cell_type": "code",
   "execution_count": 3,
   "metadata": {},
   "outputs": [],
   "source": [
    "d = \"Jan 15 2012\""
   ]
  },
  {
   "cell_type": "code",
   "execution_count": 4,
   "metadata": {},
   "outputs": [
    {
     "name": "stdout",
     "output_type": "stream",
     "text": [
      "2012-01-15 00:00:00\n"
     ]
    }
   ],
   "source": [
    "print(datetime.strptime(d,'%b %d %Y'))"
   ]
  },
  {
   "cell_type": "code",
   "execution_count": 5,
   "metadata": {},
   "outputs": [],
   "source": [
    "# b) Specific date and time of 9:20 pm."
   ]
  },
  {
   "cell_type": "code",
   "execution_count": 6,
   "metadata": {},
   "outputs": [],
   "source": [
    "d2 = datetime(2021, 6, 15, 21, 20)"
   ]
  },
  {
   "cell_type": "code",
   "execution_count": 7,
   "metadata": {},
   "outputs": [
    {
     "name": "stdout",
     "output_type": "stream",
     "text": [
      "15.06.2021 09:20 PM\n"
     ]
    }
   ],
   "source": [
    "print(d2.strftime('%d.%m.%Y %I:%M %p'))"
   ]
  },
  {
   "cell_type": "code",
   "execution_count": 8,
   "metadata": {},
   "outputs": [],
   "source": [
    "# c) Local date and time."
   ]
  },
  {
   "cell_type": "code",
   "execution_count": 9,
   "metadata": {},
   "outputs": [],
   "source": [
    "dt = datetime.now()"
   ]
  },
  {
   "cell_type": "code",
   "execution_count": 10,
   "metadata": {},
   "outputs": [
    {
     "name": "stdout",
     "output_type": "stream",
     "text": [
      "Fri Jun 18 23:32:50 2021\n"
     ]
    }
   ],
   "source": [
    "print(dt.strftime('%c'))"
   ]
  },
  {
   "cell_type": "code",
   "execution_count": 11,
   "metadata": {},
   "outputs": [],
   "source": [
    "# d) A date without time."
   ]
  },
  {
   "cell_type": "code",
   "execution_count": 12,
   "metadata": {},
   "outputs": [],
   "source": [
    "dt3 = datetime.now()"
   ]
  },
  {
   "cell_type": "code",
   "execution_count": 13,
   "metadata": {},
   "outputs": [
    {
     "name": "stdout",
     "output_type": "stream",
     "text": [
      "18-06-2021\n"
     ]
    }
   ],
   "source": [
    "print(dt3.strftime('%d-%m-%Y'))"
   ]
  },
  {
   "cell_type": "code",
   "execution_count": 14,
   "metadata": {},
   "outputs": [],
   "source": [
    "# e) Current date."
   ]
  },
  {
   "cell_type": "code",
   "execution_count": 15,
   "metadata": {},
   "outputs": [],
   "source": [
    "this_day = date.today()"
   ]
  },
  {
   "cell_type": "code",
   "execution_count": 16,
   "metadata": {},
   "outputs": [
    {
     "name": "stdout",
     "output_type": "stream",
     "text": [
      "18.06.2021\n"
     ]
    }
   ],
   "source": [
    "print(this_day.strftime('%d.%m.%Y'))"
   ]
  },
  {
   "cell_type": "code",
   "execution_count": 17,
   "metadata": {},
   "outputs": [],
   "source": [
    "# f) Time from a datetime."
   ]
  },
  {
   "cell_type": "code",
   "execution_count": 18,
   "metadata": {},
   "outputs": [],
   "source": [
    "dt = datetime(2021,5,1, 20, 15)"
   ]
  },
  {
   "cell_type": "code",
   "execution_count": 19,
   "metadata": {},
   "outputs": [
    {
     "name": "stdout",
     "output_type": "stream",
     "text": [
      "20:05\n"
     ]
    }
   ],
   "source": [
    "print(dt.strftime('%H:%m'))"
   ]
  },
  {
   "cell_type": "code",
   "execution_count": 20,
   "metadata": {},
   "outputs": [],
   "source": [
    "# g) Current local time."
   ]
  },
  {
   "cell_type": "code",
   "execution_count": 21,
   "metadata": {},
   "outputs": [],
   "source": [
    "dt = datetime.now()"
   ]
  },
  {
   "cell_type": "code",
   "execution_count": 22,
   "metadata": {},
   "outputs": [
    {
     "name": "stdout",
     "output_type": "stream",
     "text": [
      "23:32:52\n"
     ]
    }
   ],
   "source": [
    "print(dt.strftime('%X'))"
   ]
  },
  {
   "cell_type": "code",
   "execution_count": null,
   "metadata": {},
   "outputs": [],
   "source": []
  },
  {
   "cell_type": "code",
   "execution_count": 23,
   "metadata": {},
   "outputs": [],
   "source": [
    "# task_2_9_2\n",
    "# Write a Pandas program to print the day after and before a specified date.\n",
    "#    Also print the days between two given dates."
   ]
  },
  {
   "cell_type": "code",
   "execution_count": 24,
   "metadata": {},
   "outputs": [
    {
     "name": "stdout",
     "output_type": "stream",
     "text": [
      "2012-05-01 00:00:00\n",
      "2012-05-02 00:00:00\n",
      "2012-05-03 00:00:00\n"
     ]
    }
   ],
   "source": [
    "today = pd.to_datetime('2012 5 2',  format='%Y/%m/%d')\n",
    "tomorrow = today + timedelta(days = 1)\n",
    "yesterday = today - timedelta(days = 1)\n",
    "print(f\"{yesterday}\\n{today}\\n{tomorrow}\")"
   ]
  },
  {
   "cell_type": "code",
   "execution_count": 25,
   "metadata": {},
   "outputs": [
    {
     "name": "stdout",
     "output_type": "stream",
     "text": [
      "2021-06-02\n",
      "2021-06-03\n",
      "2021-06-04\n",
      "2021-06-05\n",
      "2021-06-06\n",
      "2021-06-07\n",
      "2021-06-08\n",
      "2021-06-09\n",
      "2021-06-10\n"
     ]
    }
   ],
   "source": [
    "date1 = date(2021, 6, 2)\n",
    "date2 = date(2021, 6, 10)\n",
    "diff = date2-date1\n",
    "for i in range(diff.days+1):\n",
    "    day = date1 + timedelta(days = i)\n",
    "    print(day)"
   ]
  },
  {
   "cell_type": "code",
   "execution_count": 26,
   "metadata": {},
   "outputs": [],
   "source": [
    "# task_2_9_3\n",
    "# Write a Pandas program to create a date from a given year, month, day and another date from a given string format."
   ]
  },
  {
   "cell_type": "code",
   "execution_count": 27,
   "metadata": {},
   "outputs": [],
   "source": [
    "def date_from_vals(y, m, d):\n",
    "    day = pd.to_datetime(f\"{y} {m} {d}\", format=\"%Y/%m/%d\")\n",
    "    return day"
   ]
  },
  {
   "cell_type": "code",
   "execution_count": 28,
   "metadata": {},
   "outputs": [
    {
     "name": "stdout",
     "output_type": "stream",
     "text": [
      "2021-12-10 00:00:00\n"
     ]
    }
   ],
   "source": [
    "print(date_from_vals(2021, 12, 10))"
   ]
  },
  {
   "cell_type": "code",
   "execution_count": 29,
   "metadata": {},
   "outputs": [],
   "source": [
    "def date_from_string(str):\n",
    "    day = pd.to_datetime(str, format='%Y/%m/%d')\n",
    "    return day"
   ]
  },
  {
   "cell_type": "code",
   "execution_count": 30,
   "metadata": {},
   "outputs": [
    {
     "name": "stdout",
     "output_type": "stream",
     "text": [
      "2021-02-18 00:00:00\n"
     ]
    }
   ],
   "source": [
    "date_string = \"2021 2 18\"\n",
    "print(date_from_string(date_string))"
   ]
  },
  {
   "cell_type": "code",
   "execution_count": 31,
   "metadata": {},
   "outputs": [],
   "source": [
    "# task_2_9_4\n",
    "# Write a Pandas program to create a date range using a startpoint date and a number of periods."
   ]
  },
  {
   "cell_type": "code",
   "execution_count": 43,
   "metadata": {},
   "outputs": [],
   "source": [
    "def date_range(start_date, period):\n",
    "    for i in range(period):\n",
    "        day = start_date + timedelta(days = i)\n",
    "        print(day)"
   ]
  },
  {
   "cell_type": "code",
   "execution_count": 45,
   "metadata": {},
   "outputs": [
    {
     "name": "stdout",
     "output_type": "stream",
     "text": [
      "2021-09-01 00:00:00\n",
      "2021-09-02 00:00:00\n",
      "2021-09-03 00:00:00\n",
      "2021-09-04 00:00:00\n",
      "2021-09-05 00:00:00\n"
     ]
    }
   ],
   "source": [
    "some_date = pd.to_datetime(\"2021 9 1\", format='%Y/%m/%d')\n",
    "days = 5\n",
    "date_range(some_date, days)"
   ]
  },
  {
   "cell_type": "code",
   "execution_count": 34,
   "metadata": {},
   "outputs": [],
   "source": [
    "# task_2_9_5\n",
    "# Write a Pandas program to create a time series using three months frequency"
   ]
  },
  {
   "cell_type": "code",
   "execution_count": 59,
   "metadata": {},
   "outputs": [],
   "source": [
    "def freq_3_months(start, end, freq = 3):\n",
    "    while start < end:\n",
    "        start = start + relativedelta(months = freq)\n",
    "        print(start)"
   ]
  },
  {
   "cell_type": "code",
   "execution_count": 60,
   "metadata": {},
   "outputs": [
    {
     "name": "stdout",
     "output_type": "stream",
     "text": [
      "2021-12-01 00:00:00\n",
      "2022-03-01 00:00:00\n",
      "2022-06-01 00:00:00\n",
      "2022-09-01 00:00:00\n"
     ]
    }
   ],
   "source": [
    "sday = pd.to_datetime(\"2021 9 1\", format='%Y/%m/%d')\n",
    "fday = pd.to_datetime(\"2022 9 1\", format='%Y/%m/%d')\n",
    "freq_3_months(sday, fday)"
   ]
  }
 ],
 "metadata": {
  "kernelspec": {
   "display_name": "Python 3",
   "language": "python",
   "name": "python3"
  },
  "language_info": {
   "codemirror_mode": {
    "name": "ipython",
    "version": 3
   },
   "file_extension": ".py",
   "mimetype": "text/x-python",
   "name": "python",
   "nbconvert_exporter": "python",
   "pygments_lexer": "ipython3",
   "version": "3.8.5"
  }
 },
 "nbformat": 4,
 "nbformat_minor": 4
}
