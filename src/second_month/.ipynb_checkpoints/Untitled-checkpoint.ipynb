{
 "cells": [
  {
   "cell_type": "code",
   "execution_count": 8,
   "metadata": {},
   "outputs": [],
   "source": [
    "import numpy as np\n",
    "import pandas as pd\n",
    "import matplotlib.pyplot as plt\n",
    "import seaborn as sns"
   ]
  },
  {
   "cell_type": "code",
   "execution_count": 34,
   "metadata": {},
   "outputs": [],
   "source": [
    "x = np.random.randn(15)\n",
    "y = np.random.randn(15)"
   ]
  },
  {
   "cell_type": "code",
   "execution_count": 35,
   "metadata": {},
   "outputs": [
    {
     "name": "stdout",
     "output_type": "stream",
     "text": [
      "[[-1.04705699 -0.0166907  -0.79568579]\n",
      " [-0.72588905  0.88276208  0.43883877]\n",
      " [ 1.07311452 -0.53415808 -1.30496935]\n",
      " [-0.41335472 -0.34649492 -2.26030386]\n",
      " [-0.58104958 -0.27844745  2.14806996]\n",
      " [ 1.08391843  1.5265906   0.10546468]\n",
      " [ 0.86912271  0.32498201  0.97296367]\n",
      " [-0.82841451  3.28548139  1.29786614]\n",
      " [-0.68789668 -1.72598525  0.43003598]\n",
      " [ 0.15916263  1.35922853 -0.42776385]]\n",
      "[[-0.31743138  0.63020129 -1.26585431]\n",
      " [ 1.14938747  0.14145793  1.38524086]\n",
      " [-0.34124449 -0.23647915 -1.07759442]\n",
      " [-1.09320654  0.37067158  0.06360006]\n",
      " [-0.31237281  0.02488834  0.82502811]\n",
      " [-0.70786966 -1.0909528   1.13354901]\n",
      " [ 1.20092529  1.30981969  0.8221625 ]\n",
      " [ 0.21200415 -0.2520659   0.08804172]\n",
      " [-1.30128698  0.09488834 -0.84989162]\n",
      " [ 0.86233427 -1.16634207  1.42031067]]\n"
     ]
    }
   ],
   "source": [
    "print(x)\n",
    "print(y)"
   ]
  },
  {
   "cell_type": "code",
   "execution_count": 36,
   "metadata": {},
   "outputs": [
    {
     "data": {
      "text/plain": [
       "<matplotlib.collections.PathCollection at 0x1238a7d8>"
      ]
     },
     "execution_count": 36,
     "metadata": {},
     "output_type": "execute_result"
    },
    {
     "data": {
      "image/png": "[encoded data removed]",
      "text/plain": [
       "<Figure size 432x288 with 1 Axes>"
      ]
     },
     "metadata": {
      "needs_background": "light"
     },
     "output_type": "display_data"
    }
   ],
   "source": [
    "plt.scatter(x, y)"
   ]
  },
  {
   "cell_type": "code",
   "execution_count": null,
   "metadata": {},
   "outputs": [],
   "source": []
  }
 ],
 "metadata": {
  "kernelspec": {
   "display_name": "Python 3",
   "language": "python",
   "name": "python3"
  },
  "language_info": {
   "codemirror_mode": {
    "name": "ipython",
    "version": 3
   },
   "file_extension": ".py",
   "mimetype": "text/x-python",
   "name": "python",
   "nbconvert_exporter": "python",
   "pygments_lexer": "ipython3",
   "version": "3.8.5"
  }
 },
 "nbformat": 4,
 "nbformat_minor": 4
}
