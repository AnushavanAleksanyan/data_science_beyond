{
  "nbformat": 4,
  "nbformat_minor": 0,
  "metadata": {
    "colab": {
      "name": "extra1.ipynb",
      "provenance": [],
      "collapsed_sections": []
    },
    "kernelspec": {
      "name": "python3",
      "display_name": "Python 3"
    },
    "language_info": {
      "name": "python"
    }
  },
  "cells": [
    {
      "cell_type": "code",
      "metadata": {
        "id": "83tqhkvjeOp1"
      },
      "source": [
        "from pydrive.auth import GoogleAuth\n",
        "from pydrive.drive import GoogleDrive\n",
        "from google.colab import auth\n",
        "from oauth2client.client import GoogleCredentials\n",
        "from matplotlib import pyplot as plt"
      ],
      "execution_count": 167,
      "outputs": []
    },
    {
      "cell_type": "code",
      "metadata": {
        "id": "9tk2Deb7tf6L"
      },
      "source": [
        "auth.authenticate_user()\n",
        "gauth = GoogleAuth()\n",
        "gauth.credentials = GoogleCredentials.get_application_default()\n",
        "drive = GoogleDrive(gauth)"
      ],
      "execution_count": 168,
      "outputs": []
    },
    {
      "cell_type": "code",
      "metadata": {
        "id": "hQlvWDZudCoM"
      },
      "source": [
        "url = \"https://rawcdn.githack.com/AnushavanAleksanyan/data_science_beyond/f204830f9bb8618ee86fd0e559e619d27fac595c/src/extra/f_data_sm.rda\""
      ],
      "execution_count": 169,
      "outputs": []
    },
    {
      "cell_type": "code",
      "metadata": {
        "id": "l1wuBumQdKOr"
      },
      "source": [
        "downloaded = drive.CreateFile({'id':\"1WsK4Ft6qJtOaVryOiOZcZrUzqsRGZkg1\"})   # replace the id with id of file you want to access\n",
        "downloaded.GetContentFile(\"f_data_sm.rda\")        # replace the file name with your file"
      ],
      "execution_count": 170,
      "outputs": []
    },
    {
      "cell_type": "code",
      "metadata": {
        "id": "WoZjIqruQvgf"
      },
      "source": [
        "import pyreadr"
      ],
      "execution_count": 171,
      "outputs": []
    },
    {
      "cell_type": "code",
      "metadata": {
        "id": "FComiAtcRT_l"
      },
      "source": [
        "result = pyreadr.read_r('f_data_sm.rda')"
      ],
      "execution_count": 172,
      "outputs": []
    },
    {
      "cell_type": "code",
      "metadata": {
        "colab": {
          "base_uri": "https://localhost:8080/"
        },
        "id": "QOVbvbfDRqio",
        "outputId": "c86b4164-dd6c-4ffb-94e4-455837df6200"
      },
      "source": [
        "print(result['f_data_sm'])"
      ],
      "execution_count": 173,
      "outputs": [
        {
          "output_type": "stream",
          "text": [
            "       SEASON  COUNTRY             LEAGUE       DATE  ... FTTG   H   D   A\n",
            "0      1994.0  England     Premier League 1993-08-14  ...  3.0 NaN NaN NaN\n",
            "1      1994.0  England     Premier League 1993-08-14  ...  5.0 NaN NaN NaN\n",
            "2      1994.0  England     Premier League 1993-08-14  ...  3.0 NaN NaN NaN\n",
            "3      1994.0  England     Premier League 1993-08-14  ...  2.0 NaN NaN NaN\n",
            "4      1994.0  England     Premier League 1993-08-14  ...  2.0 NaN NaN NaN\n",
            "...       ...      ...                ...        ...  ...  ...  ..  ..  ..\n",
            "87811  2019.0   Greece  Ethniki Katigoria 2019-05-05  ...  2.0 NaN NaN NaN\n",
            "87812  2019.0   Greece  Ethniki Katigoria 2019-05-05  ...  2.0 NaN NaN NaN\n",
            "87813  2019.0   Greece  Ethniki Katigoria 2019-05-05  ...  3.0 NaN NaN NaN\n",
            "87814  2019.0   Greece  Ethniki Katigoria 2019-05-05  ...  3.0 NaN NaN NaN\n",
            "87815  2019.0   Greece  Ethniki Katigoria 2019-05-05  ...  4.0 NaN NaN NaN\n",
            "\n",
            "[87816 rows x 14 columns]\n"
          ],
          "name": "stdout"
        }
      ]
    },
    {
      "cell_type": "code",
      "metadata": {
        "id": "0LAPVpOWXKGe"
      },
      "source": [
        "df = result['f_data_sm']"
      ],
      "execution_count": 174,
      "outputs": []
    },
    {
      "cell_type": "code",
      "metadata": {
        "colab": {
          "base_uri": "https://localhost:8080/"
        },
        "id": "NYzdZIkPXXQG",
        "outputId": "92da785c-b649-4c55-eef2-af4f34709de8"
      },
      "source": [
        "print(type(df))"
      ],
      "execution_count": 175,
      "outputs": [
        {
          "output_type": "stream",
          "text": [
            "<class 'pandas.core.frame.DataFrame'>\n"
          ],
          "name": "stdout"
        }
      ]
    },
    {
      "cell_type": "code",
      "metadata": {
        "colab": {
          "base_uri": "https://localhost:8080/"
        },
        "id": "N7Xqvr1-Ukbl",
        "outputId": "1e497c8f-0d1c-4b66-fa2b-7e187a4648ff"
      },
      "source": [
        "print(df.keys())"
      ],
      "execution_count": 176,
      "outputs": [
        {
          "output_type": "stream",
          "text": [
            "Index(['SEASON', 'COUNTRY', 'LEAGUE', 'DATE', 'HOMETEAM', 'AWAYTEAM', 'FTSC',\n",
            "       'FTR', 'FTHG', 'FTAG', 'FTTG', 'H', 'D', 'A'],\n",
            "      dtype='object')\n"
          ],
          "name": "stdout"
        }
      ]
    },
    {
      "cell_type": "code",
      "metadata": {
        "colab": {
          "base_uri": "https://localhost:8080/",
          "height": 419
        },
        "id": "PGMg9FsmfT4K",
        "outputId": "04432476-701f-4dec-83fc-ed51d33df9d4"
      },
      "source": [
        "df[['HOMETEAM','AWAYTEAM','FTSC', 'FTR', 'FTHG', 'FTAG', 'FTTG']]"
      ],
      "execution_count": 177,
      "outputs": [
        {
          "output_type": "execute_result",
          "data": {
            "text/html": [
              "<div>\n",
              "<style scoped>\n",
              "    .dataframe tbody tr th:only-of-type {\n",
              "        vertical-align: middle;\n",
              "    }\n",
              "\n",
              "    .dataframe tbody tr th {\n",
              "        vertical-align: top;\n",
              "    }\n",
              "\n",
              "    .dataframe thead th {\n",
              "        text-align: right;\n",
              "    }\n",
              "</style>\n",
              "<table border=\"1\" class=\"dataframe\">\n",
              "  <thead>\n",
              "    <tr style=\"text-align: right;\">\n",
              "      <th></th>\n",
              "      <th>HOMETEAM</th>\n",
              "      <th>AWAYTEAM</th>\n",
              "      <th>FTSC</th>\n",
              "      <th>FTR</th>\n",
              "      <th>FTHG</th>\n",
              "      <th>FTAG</th>\n",
              "      <th>FTTG</th>\n",
              "    </tr>\n",
              "  </thead>\n",
              "  <tbody>\n",
              "    <tr>\n",
              "      <th>0</th>\n",
              "      <td>Arsenal</td>\n",
              "      <td>Coventry</td>\n",
              "      <td>0-3</td>\n",
              "      <td>A</td>\n",
              "      <td>0.0</td>\n",
              "      <td>3.0</td>\n",
              "      <td>3.0</td>\n",
              "    </tr>\n",
              "    <tr>\n",
              "      <th>1</th>\n",
              "      <td>Aston Villa</td>\n",
              "      <td>QPR</td>\n",
              "      <td>4-1</td>\n",
              "      <td>H</td>\n",
              "      <td>4.0</td>\n",
              "      <td>1.0</td>\n",
              "      <td>5.0</td>\n",
              "    </tr>\n",
              "    <tr>\n",
              "      <th>2</th>\n",
              "      <td>Chelsea</td>\n",
              "      <td>Blackburn</td>\n",
              "      <td>1-2</td>\n",
              "      <td>A</td>\n",
              "      <td>1.0</td>\n",
              "      <td>2.0</td>\n",
              "      <td>3.0</td>\n",
              "    </tr>\n",
              "    <tr>\n",
              "      <th>3</th>\n",
              "      <td>Liverpool</td>\n",
              "      <td>Sheffield Weds</td>\n",
              "      <td>2-0</td>\n",
              "      <td>H</td>\n",
              "      <td>2.0</td>\n",
              "      <td>0.0</td>\n",
              "      <td>2.0</td>\n",
              "    </tr>\n",
              "    <tr>\n",
              "      <th>4</th>\n",
              "      <td>Man City</td>\n",
              "      <td>Leeds</td>\n",
              "      <td>1-1</td>\n",
              "      <td>D</td>\n",
              "      <td>1.0</td>\n",
              "      <td>1.0</td>\n",
              "      <td>2.0</td>\n",
              "    </tr>\n",
              "    <tr>\n",
              "      <th>...</th>\n",
              "      <td>...</td>\n",
              "      <td>...</td>\n",
              "      <td>...</td>\n",
              "      <td>...</td>\n",
              "      <td>...</td>\n",
              "      <td>...</td>\n",
              "      <td>...</td>\n",
              "    </tr>\n",
              "    <tr>\n",
              "      <th>87811</th>\n",
              "      <td>Atromitos</td>\n",
              "      <td>OFI Crete</td>\n",
              "      <td>0-2</td>\n",
              "      <td>A</td>\n",
              "      <td>0.0</td>\n",
              "      <td>2.0</td>\n",
              "      <td>2.0</td>\n",
              "    </tr>\n",
              "    <tr>\n",
              "      <th>87812</th>\n",
              "      <td>Giannina</td>\n",
              "      <td>PAOK</td>\n",
              "      <td>0-2</td>\n",
              "      <td>A</td>\n",
              "      <td>0.0</td>\n",
              "      <td>2.0</td>\n",
              "      <td>2.0</td>\n",
              "    </tr>\n",
              "    <tr>\n",
              "      <th>87813</th>\n",
              "      <td>Larisa</td>\n",
              "      <td>Olympiakos</td>\n",
              "      <td>0-3</td>\n",
              "      <td>A</td>\n",
              "      <td>0.0</td>\n",
              "      <td>3.0</td>\n",
              "      <td>3.0</td>\n",
              "    </tr>\n",
              "    <tr>\n",
              "      <th>87814</th>\n",
              "      <td>Levadeiakos</td>\n",
              "      <td>AEK</td>\n",
              "      <td>0-3</td>\n",
              "      <td>A</td>\n",
              "      <td>0.0</td>\n",
              "      <td>3.0</td>\n",
              "      <td>3.0</td>\n",
              "    </tr>\n",
              "    <tr>\n",
              "      <th>87815</th>\n",
              "      <td>Panathinaikos</td>\n",
              "      <td>Panetolikos</td>\n",
              "      <td>4-0</td>\n",
              "      <td>H</td>\n",
              "      <td>4.0</td>\n",
              "      <td>0.0</td>\n",
              "      <td>4.0</td>\n",
              "    </tr>\n",
              "  </tbody>\n",
              "</table>\n",
              "<p>87816 rows × 7 columns</p>\n",
              "</div>"
            ],
            "text/plain": [
              "            HOMETEAM        AWAYTEAM FTSC FTR  FTHG  FTAG  FTTG\n",
              "0            Arsenal        Coventry  0-3   A   0.0   3.0   3.0\n",
              "1        Aston Villa             QPR  4-1   H   4.0   1.0   5.0\n",
              "2            Chelsea       Blackburn  1-2   A   1.0   2.0   3.0\n",
              "3          Liverpool  Sheffield Weds  2-0   H   2.0   0.0   2.0\n",
              "4           Man City           Leeds  1-1   D   1.0   1.0   2.0\n",
              "...              ...             ...  ...  ..   ...   ...   ...\n",
              "87811      Atromitos       OFI Crete  0-2   A   0.0   2.0   2.0\n",
              "87812       Giannina            PAOK  0-2   A   0.0   2.0   2.0\n",
              "87813         Larisa      Olympiakos  0-3   A   0.0   3.0   3.0\n",
              "87814    Levadeiakos             AEK  0-3   A   0.0   3.0   3.0\n",
              "87815  Panathinaikos     Panetolikos  4-0   H   4.0   0.0   4.0\n",
              "\n",
              "[87816 rows x 7 columns]"
            ]
          },
          "metadata": {
            "tags": []
          },
          "execution_count": 177
        }
      ]
    },
    {
      "cell_type": "code",
      "metadata": {
        "id": "46nB9inKXsSq"
      },
      "source": [
        "league = \"Premier League\" #  choose a  LEAGUE you prefer "
      ],
      "execution_count": 178,
      "outputs": []
    },
    {
      "cell_type": "markdown",
      "metadata": {
        "id": "jXySMtGH2tOZ"
      },
      "source": [
        "***1. Calculate average number of goals for home and away teams per SEASON for that league and sort them descending order.\n",
        "Which clubs are more consistent ?***\n"
      ]
    },
    {
      "cell_type": "code",
      "metadata": {
        "id": "aJg_b5-NbRki"
      },
      "source": [
        "df2 = df.loc[df.LEAGUE==league]"
      ],
      "execution_count": 179,
      "outputs": []
    },
    {
      "cell_type": "code",
      "metadata": {
        "colab": {
          "base_uri": "https://localhost:8080/",
          "height": 419
        },
        "id": "azp9ar_0iwOt",
        "outputId": "3ece0cf1-b374-48cd-c04c-a416b8110746"
      },
      "source": [
        "df2"
      ],
      "execution_count": 180,
      "outputs": [
        {
          "output_type": "execute_result",
          "data": {
            "text/html": [
              "<div>\n",
              "<style scoped>\n",
              "    .dataframe tbody tr th:only-of-type {\n",
              "        vertical-align: middle;\n",
              "    }\n",
              "\n",
              "    .dataframe tbody tr th {\n",
              "        vertical-align: top;\n",
              "    }\n",
              "\n",
              "    .dataframe thead th {\n",
              "        text-align: right;\n",
              "    }\n",
              "</style>\n",
              "<table border=\"1\" class=\"dataframe\">\n",
              "  <thead>\n",
              "    <tr style=\"text-align: right;\">\n",
              "      <th></th>\n",
              "      <th>SEASON</th>\n",
              "      <th>COUNTRY</th>\n",
              "      <th>LEAGUE</th>\n",
              "      <th>DATE</th>\n",
              "      <th>HOMETEAM</th>\n",
              "      <th>AWAYTEAM</th>\n",
              "      <th>FTSC</th>\n",
              "      <th>FTR</th>\n",
              "      <th>FTHG</th>\n",
              "      <th>FTAG</th>\n",
              "      <th>FTTG</th>\n",
              "      <th>H</th>\n",
              "      <th>D</th>\n",
              "      <th>A</th>\n",
              "    </tr>\n",
              "  </thead>\n",
              "  <tbody>\n",
              "    <tr>\n",
              "      <th>0</th>\n",
              "      <td>1994.0</td>\n",
              "      <td>England</td>\n",
              "      <td>Premier League</td>\n",
              "      <td>1993-08-14</td>\n",
              "      <td>Arsenal</td>\n",
              "      <td>Coventry</td>\n",
              "      <td>0-3</td>\n",
              "      <td>A</td>\n",
              "      <td>0.0</td>\n",
              "      <td>3.0</td>\n",
              "      <td>3.0</td>\n",
              "      <td>NaN</td>\n",
              "      <td>NaN</td>\n",
              "      <td>NaN</td>\n",
              "    </tr>\n",
              "    <tr>\n",
              "      <th>1</th>\n",
              "      <td>1994.0</td>\n",
              "      <td>England</td>\n",
              "      <td>Premier League</td>\n",
              "      <td>1993-08-14</td>\n",
              "      <td>Aston Villa</td>\n",
              "      <td>QPR</td>\n",
              "      <td>4-1</td>\n",
              "      <td>H</td>\n",
              "      <td>4.0</td>\n",
              "      <td>1.0</td>\n",
              "      <td>5.0</td>\n",
              "      <td>NaN</td>\n",
              "      <td>NaN</td>\n",
              "      <td>NaN</td>\n",
              "    </tr>\n",
              "    <tr>\n",
              "      <th>2</th>\n",
              "      <td>1994.0</td>\n",
              "      <td>England</td>\n",
              "      <td>Premier League</td>\n",
              "      <td>1993-08-14</td>\n",
              "      <td>Chelsea</td>\n",
              "      <td>Blackburn</td>\n",
              "      <td>1-2</td>\n",
              "      <td>A</td>\n",
              "      <td>1.0</td>\n",
              "      <td>2.0</td>\n",
              "      <td>3.0</td>\n",
              "      <td>NaN</td>\n",
              "      <td>NaN</td>\n",
              "      <td>NaN</td>\n",
              "    </tr>\n",
              "    <tr>\n",
              "      <th>3</th>\n",
              "      <td>1994.0</td>\n",
              "      <td>England</td>\n",
              "      <td>Premier League</td>\n",
              "      <td>1993-08-14</td>\n",
              "      <td>Liverpool</td>\n",
              "      <td>Sheffield Weds</td>\n",
              "      <td>2-0</td>\n",
              "      <td>H</td>\n",
              "      <td>2.0</td>\n",
              "      <td>0.0</td>\n",
              "      <td>2.0</td>\n",
              "      <td>NaN</td>\n",
              "      <td>NaN</td>\n",
              "      <td>NaN</td>\n",
              "    </tr>\n",
              "    <tr>\n",
              "      <th>4</th>\n",
              "      <td>1994.0</td>\n",
              "      <td>England</td>\n",
              "      <td>Premier League</td>\n",
              "      <td>1993-08-14</td>\n",
              "      <td>Man City</td>\n",
              "      <td>Leeds</td>\n",
              "      <td>1-1</td>\n",
              "      <td>D</td>\n",
              "      <td>1.0</td>\n",
              "      <td>1.0</td>\n",
              "      <td>2.0</td>\n",
              "      <td>NaN</td>\n",
              "      <td>NaN</td>\n",
              "      <td>NaN</td>\n",
              "    </tr>\n",
              "    <tr>\n",
              "      <th>...</th>\n",
              "      <td>...</td>\n",
              "      <td>...</td>\n",
              "      <td>...</td>\n",
              "      <td>...</td>\n",
              "      <td>...</td>\n",
              "      <td>...</td>\n",
              "      <td>...</td>\n",
              "      <td>...</td>\n",
              "      <td>...</td>\n",
              "      <td>...</td>\n",
              "      <td>...</td>\n",
              "      <td>...</td>\n",
              "      <td>...</td>\n",
              "      <td>...</td>\n",
              "    </tr>\n",
              "    <tr>\n",
              "      <th>84967</th>\n",
              "      <td>2019.0</td>\n",
              "      <td>Scotland</td>\n",
              "      <td>Premier League</td>\n",
              "      <td>2019-05-18</td>\n",
              "      <td>Hamilton</td>\n",
              "      <td>St Johnstone</td>\n",
              "      <td>2-0</td>\n",
              "      <td>H</td>\n",
              "      <td>2.0</td>\n",
              "      <td>0.0</td>\n",
              "      <td>2.0</td>\n",
              "      <td>2.80</td>\n",
              "      <td>3.3</td>\n",
              "      <td>2.45</td>\n",
              "    </tr>\n",
              "    <tr>\n",
              "      <th>84968</th>\n",
              "      <td>2019.0</td>\n",
              "      <td>Scotland</td>\n",
              "      <td>Premier League</td>\n",
              "      <td>2019-05-18</td>\n",
              "      <td>Motherwell</td>\n",
              "      <td>Livingston</td>\n",
              "      <td>3-2</td>\n",
              "      <td>H</td>\n",
              "      <td>3.0</td>\n",
              "      <td>2.0</td>\n",
              "      <td>5.0</td>\n",
              "      <td>2.05</td>\n",
              "      <td>3.4</td>\n",
              "      <td>3.50</td>\n",
              "    </tr>\n",
              "    <tr>\n",
              "      <th>84969</th>\n",
              "      <td>2019.0</td>\n",
              "      <td>Scotland</td>\n",
              "      <td>Premier League</td>\n",
              "      <td>2019-05-19</td>\n",
              "      <td>Celtic</td>\n",
              "      <td>Hearts</td>\n",
              "      <td>2-1</td>\n",
              "      <td>H</td>\n",
              "      <td>2.0</td>\n",
              "      <td>1.0</td>\n",
              "      <td>3.0</td>\n",
              "      <td>1.30</td>\n",
              "      <td>5.5</td>\n",
              "      <td>9.00</td>\n",
              "    </tr>\n",
              "    <tr>\n",
              "      <th>84970</th>\n",
              "      <td>2019.0</td>\n",
              "      <td>Scotland</td>\n",
              "      <td>Premier League</td>\n",
              "      <td>2019-05-19</td>\n",
              "      <td>Hibernian</td>\n",
              "      <td>Aberdeen</td>\n",
              "      <td>1-2</td>\n",
              "      <td>A</td>\n",
              "      <td>1.0</td>\n",
              "      <td>2.0</td>\n",
              "      <td>3.0</td>\n",
              "      <td>3.10</td>\n",
              "      <td>3.4</td>\n",
              "      <td>2.25</td>\n",
              "    </tr>\n",
              "    <tr>\n",
              "      <th>84971</th>\n",
              "      <td>2019.0</td>\n",
              "      <td>Scotland</td>\n",
              "      <td>Premier League</td>\n",
              "      <td>2019-05-19</td>\n",
              "      <td>Kilmarnock</td>\n",
              "      <td>Rangers</td>\n",
              "      <td>2-1</td>\n",
              "      <td>H</td>\n",
              "      <td>2.0</td>\n",
              "      <td>1.0</td>\n",
              "      <td>3.0</td>\n",
              "      <td>4.33</td>\n",
              "      <td>3.6</td>\n",
              "      <td>1.80</td>\n",
              "    </tr>\n",
              "  </tbody>\n",
              "</table>\n",
              "<p>15456 rows × 14 columns</p>\n",
              "</div>"
            ],
            "text/plain": [
              "       SEASON   COUNTRY          LEAGUE       DATE  ... FTTG     H    D     A\n",
              "0      1994.0   England  Premier League 1993-08-14  ...  3.0   NaN  NaN   NaN\n",
              "1      1994.0   England  Premier League 1993-08-14  ...  5.0   NaN  NaN   NaN\n",
              "2      1994.0   England  Premier League 1993-08-14  ...  3.0   NaN  NaN   NaN\n",
              "3      1994.0   England  Premier League 1993-08-14  ...  2.0   NaN  NaN   NaN\n",
              "4      1994.0   England  Premier League 1993-08-14  ...  2.0   NaN  NaN   NaN\n",
              "...       ...       ...             ...        ...  ...  ...   ...  ...   ...\n",
              "84967  2019.0  Scotland  Premier League 2019-05-18  ...  2.0  2.80  3.3  2.45\n",
              "84968  2019.0  Scotland  Premier League 2019-05-18  ...  5.0  2.05  3.4  3.50\n",
              "84969  2019.0  Scotland  Premier League 2019-05-19  ...  3.0  1.30  5.5  9.00\n",
              "84970  2019.0  Scotland  Premier League 2019-05-19  ...  3.0  3.10  3.4  2.25\n",
              "84971  2019.0  Scotland  Premier League 2019-05-19  ...  3.0  4.33  3.6  1.80\n",
              "\n",
              "[15456 rows x 14 columns]"
            ]
          },
          "metadata": {
            "tags": []
          },
          "execution_count": 180
        }
      ]
    },
    {
      "cell_type": "code",
      "metadata": {
        "id": "OGxsuOmmjW9M"
      },
      "source": [
        "fthg_mean = df2.groupby(['SEASON','HOMETEAM'])['FTHG'].mean()"
      ],
      "execution_count": 181,
      "outputs": []
    },
    {
      "cell_type": "code",
      "metadata": {
        "colab": {
          "base_uri": "https://localhost:8080/"
        },
        "id": "2fJt_bhpkxZA",
        "outputId": "9ada5c50-532d-4a4b-c438-a1835f3c7cb3"
      },
      "source": [
        "fthg_mean"
      ],
      "execution_count": 182,
      "outputs": [
        {
          "output_type": "execute_result",
          "data": {
            "text/plain": [
              "SEASON  HOMETEAM   \n",
              "1994.0  Arsenal        1.190476\n",
              "        Aston Villa    1.095238\n",
              "        Blackburn      1.476190\n",
              "        Chelsea        1.476190\n",
              "        Coventry       1.095238\n",
              "                         ...   \n",
              "2019.0  St Mirren      0.789474\n",
              "        Tottenham      1.789474\n",
              "        Watford        1.368421\n",
              "        West Ham       1.684211\n",
              "        Wolves         1.473684\n",
              "Name: FTHG, Length: 812, dtype: float64"
            ]
          },
          "metadata": {
            "tags": []
          },
          "execution_count": 182
        }
      ]
    },
    {
      "cell_type": "code",
      "metadata": {
        "id": "sHYbbqXArqyW"
      },
      "source": [
        "ftag_mean = df2.groupby(['SEASON', 'AWAYTEAM'])['FTAG'].mean()"
      ],
      "execution_count": 183,
      "outputs": []
    },
    {
      "cell_type": "code",
      "metadata": {
        "colab": {
          "base_uri": "https://localhost:8080/"
        },
        "id": "Cj3TiA-1sFHw",
        "outputId": "b65ca8fc-1885-499c-b4ba-13a0751745ac"
      },
      "source": [
        "fthg_mean"
      ],
      "execution_count": 184,
      "outputs": [
        {
          "output_type": "execute_result",
          "data": {
            "text/plain": [
              "SEASON  HOMETEAM   \n",
              "1994.0  Arsenal        1.190476\n",
              "        Aston Villa    1.095238\n",
              "        Blackburn      1.476190\n",
              "        Chelsea        1.476190\n",
              "        Coventry       1.095238\n",
              "                         ...   \n",
              "2019.0  St Mirren      0.789474\n",
              "        Tottenham      1.789474\n",
              "        Watford        1.368421\n",
              "        West Ham       1.684211\n",
              "        Wolves         1.473684\n",
              "Name: FTHG, Length: 812, dtype: float64"
            ]
          },
          "metadata": {
            "tags": []
          },
          "execution_count": 184
        }
      ]
    },
    {
      "cell_type": "code",
      "metadata": {
        "colab": {
          "base_uri": "https://localhost:8080/"
        },
        "id": "KKZVS9YYk4uH",
        "outputId": "f9a69919-f049-4341-d82f-7e49454859fe"
      },
      "source": [
        "fthg_mean.nlargest(3)  # 3 more consistent teams in HOMETEAM"
      ],
      "execution_count": 185,
      "outputs": [
        {
          "output_type": "execute_result",
          "data": {
            "text/plain": [
              "SEASON  HOMETEAM\n",
              "2010.0  Chelsea     3.578947\n",
              "2014.0  Man City    3.315789\n",
              "2004.0  Celtic      3.263158\n",
              "Name: FTHG, dtype: float64"
            ]
          },
          "metadata": {
            "tags": []
          },
          "execution_count": 185
        }
      ]
    },
    {
      "cell_type": "code",
      "metadata": {
        "colab": {
          "base_uri": "https://localhost:8080/"
        },
        "id": "wUZD8KQYpgRH",
        "outputId": "33207fb9-e0dc-48c8-dbeb-c2e11421d756"
      },
      "source": [
        "ftag_mean.nlargest(3)  # 3 more consistent teams in AWAYTEAM"
      ],
      "execution_count": 186,
      "outputs": [
        {
          "output_type": "execute_result",
          "data": {
            "text/plain": [
              "SEASON  AWAYTEAM\n",
              "2017.0  Celtic      3.105263\n",
              "2006.0  Celtic      2.736842\n",
              "2014.0  Celtic      2.736842\n",
              "Name: FTAG, dtype: float64"
            ]
          },
          "metadata": {
            "tags": []
          },
          "execution_count": 186
        }
      ]
    },
    {
      "cell_type": "markdown",
      "metadata": {
        "id": "hdcVL94k2P6d"
      },
      "source": [
        "***2. Construct a plot  to show how this number is changing over time.***"
      ]
    },
    {
      "cell_type": "code",
      "metadata": {
        "id": "5U52WkDN2Xoo"
      },
      "source": [
        ""
      ],
      "execution_count": 186,
      "outputs": []
    },
    {
      "cell_type": "markdown",
      "metadata": {
        "id": "FiPkRTAX3Ohd"
      },
      "source": [
        "***4. Find following clubs for each season:***\n",
        "*- the best attack (top 5)*\n",
        "*- the best defense (top5)*"
      ]
    },
    {
      "cell_type": "code",
      "metadata": {
        "id": "J3FJsQ5A3ZnO"
      },
      "source": [
        "fthg_max = df2.groupby(['SEASON','HOMETEAM'])['FTHG'].sum()\n",
        "ftag_max = df2.groupby(['SEASON','AWAYTEAM'])['FTAG'].sum()"
      ],
      "execution_count": 187,
      "outputs": []
    },
    {
      "cell_type": "code",
      "metadata": {
        "colab": {
          "base_uri": "https://localhost:8080/"
        },
        "id": "mEFrok455HMG",
        "outputId": "49d5d44e-5142-4b5c-de57-ce3d40aff394"
      },
      "source": [
        "fthg_max"
      ],
      "execution_count": 188,
      "outputs": [
        {
          "output_type": "execute_result",
          "data": {
            "text/plain": [
              "SEASON  HOMETEAM   \n",
              "1994.0  Arsenal        25.0\n",
              "        Aston Villa    23.0\n",
              "        Blackburn      31.0\n",
              "        Chelsea        31.0\n",
              "        Coventry       23.0\n",
              "                       ... \n",
              "2019.0  St Mirren      15.0\n",
              "        Tottenham      34.0\n",
              "        Watford        26.0\n",
              "        West Ham       32.0\n",
              "        Wolves         28.0\n",
              "Name: FTHG, Length: 812, dtype: float64"
            ]
          },
          "metadata": {
            "tags": []
          },
          "execution_count": 188
        }
      ]
    },
    {
      "cell_type": "code",
      "metadata": {
        "colab": {
          "base_uri": "https://localhost:8080/"
        },
        "id": "fx_ZwHu05VRR",
        "outputId": "a038f3f8-df1c-4d93-e95c-84f64acecea8"
      },
      "source": [
        "ftag_max"
      ],
      "execution_count": 189,
      "outputs": [
        {
          "output_type": "execute_result",
          "data": {
            "text/plain": [
              "SEASON  AWAYTEAM   \n",
              "1994.0  Arsenal        28.0\n",
              "        Aston Villa    23.0\n",
              "        Blackburn      32.0\n",
              "        Chelsea        18.0\n",
              "        Coventry       20.0\n",
              "                       ... \n",
              "2019.0  St Mirren      19.0\n",
              "        Tottenham      33.0\n",
              "        Watford        26.0\n",
              "        West Ham       20.0\n",
              "        Wolves         19.0\n",
              "Name: FTAG, Length: 812, dtype: float64"
            ]
          },
          "metadata": {
            "tags": []
          },
          "execution_count": 189
        }
      ]
    },
    {
      "cell_type": "code",
      "metadata": {
        "id": "CqfzDNyaAUzc"
      },
      "source": [
        "best_attack = fthg_max + ftag_max"
      ],
      "execution_count": 190,
      "outputs": []
    },
    {
      "cell_type": "code",
      "metadata": {
        "colab": {
          "base_uri": "https://localhost:8080/"
        },
        "id": "4BiGDa3ZBDm_",
        "outputId": "e03a8070-96dd-4037-f662-23c5c7f7fa9e"
      },
      "source": [
        "best_attack"
      ],
      "execution_count": 191,
      "outputs": [
        {
          "output_type": "execute_result",
          "data": {
            "text/plain": [
              "SEASON  HOMETEAM   \n",
              "1994.0  Arsenal        53.0\n",
              "        Aston Villa    46.0\n",
              "        Blackburn      63.0\n",
              "        Chelsea        49.0\n",
              "        Coventry       43.0\n",
              "                       ... \n",
              "2019.0  St Mirren      34.0\n",
              "        Tottenham      67.0\n",
              "        Watford        52.0\n",
              "        West Ham       52.0\n",
              "        Wolves         47.0\n",
              "Length: 812, dtype: float64"
            ]
          },
          "metadata": {
            "tags": []
          },
          "execution_count": 191
        }
      ]
    },
    {
      "cell_type": "code",
      "metadata": {
        "colab": {
          "base_uri": "https://localhost:8080/"
        },
        "id": "EaspiR6iBFRu",
        "outputId": "ff109e9a-0a93-4449-aa4b-7ea441d4741f"
      },
      "source": [
        "best_attack.nlargest(5)  # the best attack (top 5)"
      ],
      "execution_count": 192,
      "outputs": [
        {
          "output_type": "execute_result",
          "data": {
            "text/plain": [
              "SEASON  HOMETEAM\n",
              "2017.0  Celtic      106.0\n",
              "2018.0  Man City    106.0\n",
              "2004.0  Celtic      105.0\n",
              "2010.0  Chelsea     103.0\n",
              "2014.0  Celtic      102.0\n",
              "dtype: float64"
            ]
          },
          "metadata": {
            "tags": []
          },
          "execution_count": 192
        }
      ]
    },
    {
      "cell_type": "code",
      "metadata": {
        "id": "x3BxnqSvBYsh"
      },
      "source": [
        "fthg_min = df2.groupby(['SEASON','HOMETEAM'])['FTAG'].sum()\n",
        "ftag_min = df2.groupby(['SEASON','AWAYTEAM'])['FTHG'].sum()"
      ],
      "execution_count": 193,
      "outputs": []
    },
    {
      "cell_type": "code",
      "metadata": {
        "id": "2wl8sCCfDpi1"
      },
      "source": [
        "best_defense = fthg_min + ftag_min"
      ],
      "execution_count": 194,
      "outputs": []
    },
    {
      "cell_type": "code",
      "metadata": {
        "colab": {
          "base_uri": "https://localhost:8080/"
        },
        "id": "mugefWNcD2dz",
        "outputId": "172b51ba-0be5-48fb-e8c0-6a818ce002d4"
      },
      "source": [
        "best_defense.nsmallest(5)  # the best defense (top 5)"
      ],
      "execution_count": 195,
      "outputs": [
        {
          "output_type": "execute_result",
          "data": {
            "text/plain": [
              "SEASON  HOMETEAM\n",
              "2005.0  Chelsea     15.0\n",
              "1999.0  Arsenal     17.0\n",
              "2015.0  Celtic      17.0\n",
              "2002.0  Celtic      18.0\n",
              "2019.0  Celtic      20.0\n",
              "dtype: float64"
            ]
          },
          "metadata": {
            "tags": []
          },
          "execution_count": 195
        }
      ]
    },
    {
      "cell_type": "code",
      "metadata": {
        "id": "Qa9blpX9ELsO"
      },
      "source": [
        ""
      ],
      "execution_count": 195,
      "outputs": []
    }
  ]
}