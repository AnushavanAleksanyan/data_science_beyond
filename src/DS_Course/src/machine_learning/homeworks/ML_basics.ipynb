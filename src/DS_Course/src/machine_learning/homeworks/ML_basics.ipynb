{
  "nbformat": 4,
  "nbformat_minor": 0,
  "metadata": {
    "colab": {
      "name": "ML_basics.ipynb",
      "provenance": [],
      "collapsed_sections": []
    },
    "kernelspec": {
      "name": "python3",
      "display_name": "Python 3"
    },
    "language_info": {
      "name": "python"
    }
  },
  "cells": [
    {
      "cell_type": "code",
      "metadata": {
        "id": "NxK7UMev50zm"
      },
      "source": [
        "import numpy as np\n",
        "import matplotlib.pyplot as plt"
      ],
      "execution_count": 1,
      "outputs": []
    },
    {
      "cell_type": "code",
      "metadata": {
        "id": "qrAYWOfAy1_Y"
      },
      "source": [
        "speed = [32,111,138,28,59,77,97]"
      ],
      "execution_count": 2,
      "outputs": []
    },
    {
      "cell_type": "markdown",
      "metadata": {
        "id": "lnNdOk8tUvge"
      },
      "source": [
        "finding **Standart Deviation**"
      ]
    },
    {
      "cell_type": "code",
      "metadata": {
        "colab": {
          "base_uri": "https://localhost:8080/"
        },
        "id": "qUn3rOEyUOO5",
        "outputId": "f2798641-a006-446a-c7f5-fa365469c908"
      },
      "source": [
        "sd = np.std(speed)\n",
        "sd"
      ],
      "execution_count": 5,
      "outputs": [
        {
          "output_type": "execute_result",
          "data": {
            "text/plain": [
              "37.84501153334721"
            ]
          },
          "metadata": {
            "tags": []
          },
          "execution_count": 5
        }
      ]
    },
    {
      "cell_type": "markdown",
      "metadata": {
        "id": "X0Kn0AvpWbst"
      },
      "source": [
        "**Percentiles** \n",
        "describes the value that a given percent of the values are lower than"
      ]
    },
    {
      "cell_type": "code",
      "metadata": {
        "id": "MvmzoRWHUSAe"
      },
      "source": [
        "ages = [5,31,43,48,50,41,7,11,15,39,80,82,32,2,8,6,25,36,27,61,31]"
      ],
      "execution_count": 6,
      "outputs": []
    },
    {
      "cell_type": "code",
      "metadata": {
        "colab": {
          "base_uri": "https://localhost:8080/"
        },
        "id": "cD1dsFjQWYxk",
        "outputId": "d7e33c95-b04e-490b-a184-af39f0f10516"
      },
      "source": [
        "x = np.percentile(ages, 70)\n",
        "x"
      ],
      "execution_count": 12,
      "outputs": [
        {
          "output_type": "execute_result",
          "data": {
            "text/plain": [
              "41.0"
            ]
          },
          "metadata": {
            "tags": []
          },
          "execution_count": 12
        }
      ]
    },
    {
      "cell_type": "markdown",
      "metadata": {
        "id": "HF5gRKCIYOSQ"
      },
      "source": [
        "**Data Distribution**\n"
      ]
    },
    {
      "cell_type": "markdown",
      "metadata": {
        "id": "YqGhYcSDZp0I"
      },
      "source": [
        "To visualize the data set we can draw a histogram with the data we collected."
      ]
    },
    {
      "cell_type": "code",
      "metadata": {
        "id": "Yp7sz2V3Wves"
      },
      "source": [
        "y = np.random.uniform(0.0, 5.0, 250)"
      ],
      "execution_count": 14,
      "outputs": []
    },
    {
      "cell_type": "code",
      "metadata": {
        "colab": {
          "base_uri": "https://localhost:8080/",
          "height": 265
        },
        "id": "dZzqP77mY4i4",
        "outputId": "1e4527ca-03cc-4e64-9498-ec7439ad5736"
      },
      "source": [
        "a1,a2,hist = plt.hist(y, 5)"
      ],
      "execution_count": 16,
      "outputs": [
        {
          "output_type": "display_data",
          "data": {
            "image/png": "[encoded data removed]",
            "text/plain": [
              "<Figure size 432x288 with 1 Axes>"
            ]
          },
          "metadata": {
            "tags": [],
            "needs_background": "light"
          }
        }
      ]
    },
    {
      "cell_type": "code",
      "metadata": {
        "id": "H4sd_TM4bfjN"
      },
      "source": [
        ""
      ],
      "execution_count": null,
      "outputs": []
    },
    {
      "cell_type": "markdown",
      "metadata": {
        "id": "Vqjl2SQgaNks"
      },
      "source": [
        "**Normal data distribution**"
      ]
    },
    {
      "cell_type": "code",
      "metadata": {
        "id": "Sp5GMtLvZK0U"
      },
      "source": [
        "z = np.random.normal(5.0, 1.0, 100000)"
      ],
      "execution_count": 35,
      "outputs": []
    },
    {
      "cell_type": "code",
      "metadata": {
        "colab": {
          "base_uri": "https://localhost:8080/"
        },
        "id": "zXEXQs3kajUH",
        "outputId": "969a398c-720f-4bfd-d9d0-31c40a4630f5"
      },
      "source": [
        "z"
      ],
      "execution_count": 36,
      "outputs": [
        {
          "output_type": "execute_result",
          "data": {
            "text/plain": [
              "array([4.85704239, 5.36255936, 4.19240479, ..., 4.92290995, 6.41823332,\n",
              "       5.95073609])"
            ]
          },
          "metadata": {
            "tags": []
          },
          "execution_count": 36
        }
      ]
    },
    {
      "cell_type": "code",
      "metadata": {
        "colab": {
          "base_uri": "https://localhost:8080/",
          "height": 265
        },
        "id": "P7iLT2mgawBC",
        "outputId": "5ceeda06-abea-4b34-d37f-a3255fbee9d8"
      },
      "source": [
        "z1,z2,histz = plt.hist(z, 100)"
      ],
      "execution_count": 37,
      "outputs": [
        {
          "output_type": "display_data",
          "data": {
            "image/png": "[encoded data removed]",
            "text/plain": [
              "<Figure size 432x288 with 1 Axes>"
            ]
          },
          "metadata": {
            "tags": [],
            "needs_background": "light"
          }
        }
      ]
    },
    {
      "cell_type": "code",
      "metadata": {
        "id": "oJL8yH-Ya-7y"
      },
      "source": [
        ""
      ],
      "execution_count": null,
      "outputs": []
    }
  ]
}