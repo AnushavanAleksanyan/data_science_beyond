{
  "nbformat": 4,
  "nbformat_minor": 0,
  "metadata": {
    "colab": {
      "name": "extra1.ipynb",
      "provenance": [],
      "collapsed_sections": [],
      "authorship_tag": "ABX9TyPJj3QY4aZ/uctdkhrJ0I5c",
      "include_colab_link": true
    },
    "kernelspec": {
      "name": "python3",
      "display_name": "Python 3"
    },
    "language_info": {
      "name": "python"
    }
  },
  "cells": [
    {
      "cell_type": "markdown",
      "metadata": {
        "id": "view-in-github",
        "colab_type": "text"
      },
      "source": [
        "<a href=\"https://colab.research.google.com/github/AnushavanAleksanyan/data_science_beyond/blob/main/second_month/extra/extra1.ipynb\" target=\"_parent\"><img src=\"https://colab.research.google.com/assets/colab-badge.svg\" alt=\"Open In Colab\"/></a>"
      ]
    },
    {
      "cell_type": "code",
      "metadata": {
        "id": "83tqhkvjeOp1"
      },
      "source": [
        "from pydrive.auth import GoogleAuth\n",
        "from pydrive.drive import GoogleDrive\n",
        "from google.colab import auth\n",
        "from oauth2client.client import GoogleCredentials"
      ],
      "execution_count": 2,
      "outputs": []
    },
    {
      "cell_type": "code",
      "metadata": {
        "id": "9tk2Deb7tf6L"
      },
      "source": [
        "auth.authenticate_user()\n",
        "gauth = GoogleAuth()\n",
        "gauth.credentials = GoogleCredentials.get_application_default()\n",
        "drive = GoogleDrive(gauth)"
      ],
      "execution_count": 4,
      "outputs": []
    },
    {
      "cell_type": "code",
      "metadata": {
        "id": "hQlvWDZudCoM"
      },
      "source": [
        "url = \"https://rawcdn.githack.com/AnushavanAleksanyan/data_science_beyond/f204830f9bb8618ee86fd0e559e619d27fac595c/src/extra/f_data_sm.rda\""
      ],
      "execution_count": 6,
      "outputs": []
    },
    {
      "cell_type": "code",
      "metadata": {
        "id": "l1wuBumQdKOr"
      },
      "source": [
        "downloaded = drive.CreateFile({'id':\"1WsK4Ft6qJtOaVryOiOZcZrUzqsRGZkg1\"})   # replace the id with id of file you want to access\n",
        "downloaded.GetContentFile(\"f_data_sm.rda\")        # replace the file name with your file"
      ],
      "execution_count": 10,
      "outputs": []
    },
    {
      "cell_type": "code",
      "metadata": {
        "id": "WoZjIqruQvgf"
      },
      "source": [
        "import pyreadr"
      ],
      "execution_count": 14,
      "outputs": []
    },
    {
      "cell_type": "code",
      "metadata": {
        "id": "FComiAtcRT_l"
      },
      "source": [
        "result = pyreadr.read_r('f_data_sm.rda')"
      ],
      "execution_count": 15,
      "outputs": []
    },
    {
      "cell_type": "code",
      "metadata": {
        "colab": {
          "base_uri": "https://localhost:8080/"
        },
        "id": "QOVbvbfDRqio",
        "outputId": "c30fd68e-3fda-4b07-d166-268436fdcd7b"
      },
      "source": [
        "print(result['f_data_sm'])"
      ],
      "execution_count": 31,
      "outputs": [
        {
          "output_type": "stream",
          "text": [
            "       SEASON  COUNTRY             LEAGUE       DATE  ... FTTG   H   D   A\n",
            "0      1994.0  England     Premier League 1993-08-14  ...  3.0 NaN NaN NaN\n",
            "1      1994.0  England     Premier League 1993-08-14  ...  5.0 NaN NaN NaN\n",
            "2      1994.0  England     Premier League 1993-08-14  ...  3.0 NaN NaN NaN\n",
            "3      1994.0  England     Premier League 1993-08-14  ...  2.0 NaN NaN NaN\n",
            "4      1994.0  England     Premier League 1993-08-14  ...  2.0 NaN NaN NaN\n",
            "...       ...      ...                ...        ...  ...  ...  ..  ..  ..\n",
            "87811  2019.0   Greece  Ethniki Katigoria 2019-05-05  ...  2.0 NaN NaN NaN\n",
            "87812  2019.0   Greece  Ethniki Katigoria 2019-05-05  ...  2.0 NaN NaN NaN\n",
            "87813  2019.0   Greece  Ethniki Katigoria 2019-05-05  ...  3.0 NaN NaN NaN\n",
            "87814  2019.0   Greece  Ethniki Katigoria 2019-05-05  ...  3.0 NaN NaN NaN\n",
            "87815  2019.0   Greece  Ethniki Katigoria 2019-05-05  ...  4.0 NaN NaN NaN\n",
            "\n",
            "[87816 rows x 14 columns]\n"
          ],
          "name": "stdout"
        }
      ]
    },
    {
      "cell_type": "code",
      "metadata": {
        "id": "0LAPVpOWXKGe"
      },
      "source": [
        "df = result['f_data_sm']"
      ],
      "execution_count": 32,
      "outputs": []
    },
    {
      "cell_type": "code",
      "metadata": {
        "colab": {
          "base_uri": "https://localhost:8080/"
        },
        "id": "NYzdZIkPXXQG",
        "outputId": "0f7f8993-ba10-4bb6-ebc7-2c6241869408"
      },
      "source": [
        "print(type(df))"
      ],
      "execution_count": 34,
      "outputs": [
        {
          "output_type": "stream",
          "text": [
            "<class 'pandas.core.frame.DataFrame'>\n"
          ],
          "name": "stdout"
        }
      ]
    },
    {
      "cell_type": "code",
      "metadata": {
        "colab": {
          "base_uri": "https://localhost:8080/"
        },
        "id": "N7Xqvr1-Ukbl",
        "outputId": "ba74087e-4c4a-40b9-89ad-ce988b9bd348"
      },
      "source": [
        "print(df.keys())"
      ],
      "execution_count": 38,
      "outputs": [
        {
          "output_type": "stream",
          "text": [
            "Index(['SEASON', 'COUNTRY', 'LEAGUE', 'DATE', 'HOMETEAM', 'AWAYTEAM', 'FTSC',\n",
            "       'FTR', 'FTHG', 'FTAG', 'FTTG', 'H', 'D', 'A'],\n",
            "      dtype='object')\n"
          ],
          "name": "stdout"
        }
      ]
    },
    {
      "cell_type": "code",
      "metadata": {
        "id": "46nB9inKXsSq"
      },
      "source": [
        "league = \"Premier League\""
      ],
      "execution_count": null,
      "outputs": []
    }
  ]
}